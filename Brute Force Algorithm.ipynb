{
 "cells": [
  {
   "cell_type": "code",
   "execution_count": 2,
   "id": "fece84e1",
   "metadata": {},
   "outputs": [
    {
     "name": "stdout",
     "output_type": "stream",
     "text": [
      "Total Time taken using naive approach is: 237 ms\n",
      "Total count of pattern in text files is: 16\n"
     ]
    }
   ],
   "source": [
    "from time import time\n",
    "\n",
    "def readFile():\n",
    "    f = open(\"input.txt\",\"r\")\n",
    "    searchString = f.read()\n",
    "    f.close()\n",
    "    return searchString\n",
    "\n",
    "def searchPattern(searchString, pattern):\n",
    "    lengthText = len(searchString)\n",
    "    lengthOfPattern = len(pattern)\n",
    "    \n",
    "    count = 0\n",
    "    for i in range(0,lengthText - lengthOfPattern + 1):\n",
    "        start = i\n",
    "\n",
    "        j=0\n",
    "        while j<lengthOfPattern:\n",
    "            if searchString[start]==pattern[j]:\n",
    "                start+=1\n",
    "                j+=1\n",
    "            else:\n",
    "                break\n",
    "        if j == lengthOfPattern:\n",
    "            count+=1\n",
    "    return count\n",
    "\n",
    "def main():\n",
    "    searchString = readFile()\n",
    "    pattern = \"ababada\"\n",
    "    startTime = int(time()*1000)\n",
    "    count = searchPattern(searchString, pattern)\n",
    "    endTime = int(time()*1000)\n",
    "\n",
    "    totalTimeTaken = endTime - startTime\n",
    "    print(\"Total Time taken using naive approach is: %d ms\" % (totalTimeTaken))\n",
    "    print(\"Total count of pattern in text files is: %d\" % (count))\n",
    "\n",
    "main()\n"
   ]
  },
  {
   "cell_type": "code",
   "execution_count": null,
   "id": "d7deaf75",
   "metadata": {},
   "outputs": [],
   "source": []
  }
 ],
 "metadata": {
  "kernelspec": {
   "display_name": "Python 3 (ipykernel)",
   "language": "python",
   "name": "python3"
  },
  "language_info": {
   "codemirror_mode": {
    "name": "ipython",
    "version": 3
   },
   "file_extension": ".py",
   "mimetype": "text/x-python",
   "name": "python",
   "nbconvert_exporter": "python",
   "pygments_lexer": "ipython3",
   "version": "3.9.13"
  }
 },
 "nbformat": 4,
 "nbformat_minor": 5
}
